{
 "cells": [
  {
   "cell_type": "markdown",
   "metadata": {},
   "source": [
    "This notebook is definitely a work in progress.However, currently, this notebook includes how I determined the political affliation of the bots, and looked at what hashtags they were using\n",
    "\n",
    "I should point out as well that these are suspected bots (15 + tweets about Kathy Griffin with 95%+ being retweets) and some nonbots may be in here as well. The main idea of this portion of my project was try to get a glimpse of just how many bots there are and what they are doing."
   ]
  },
  {
   "cell_type": "code",
   "execution_count": 1,
   "metadata": {
    "collapsed": true
   },
   "outputs": [],
   "source": [
    "import pandas as pd\n",
    "#import gensim\n",
    "from sklearn.feature_extraction.text import CountVectorizer,TfidfVectorizer\n",
    "from sklearn.decomposition import LatentDirichletAllocation, NMF\n",
    "import numpy\n",
    "import seaborn as sns\n",
    "import matplotlib.pyplot as plt\n",
    "%matplotlib inline \n",
    "pd.set_option('max_colwidth',1000)\n",
    "from collections import Counter\n",
    "from vaderSentiment.vaderSentiment import SentimentIntensityAnalyzer\n",
    "import re\n",
    "import string\n",
    "from nltk.tokenize import word_tokenize\n",
    "from nltk.stem import SnowballStemmer\n",
    "from nltk.stem.wordnet import WordNetLemmatizer\n",
    "from nltk.corpus import wordnet\n",
    "from nltk.corpus import stopwords\n",
    "from nltk import pos_tag\n"
   ]
  },
  {
   "cell_type": "code",
   "execution_count": 3,
   "metadata": {
    "collapsed": true
   },
   "outputs": [],
   "source": [
    "bots = pd.read_pickle(\"finalbots.pkl\")"
   ]
  },
  {
   "cell_type": "code",
   "execution_count": 4,
   "metadata": {},
   "outputs": [
    {
     "data": {
      "text/html": [
       "<div>\n",
       "<style>\n",
       "    .dataframe thead tr:only-child th {\n",
       "        text-align: right;\n",
       "    }\n",
       "\n",
       "    .dataframe thead th {\n",
       "        text-align: left;\n",
       "    }\n",
       "\n",
       "    .dataframe tbody tr th {\n",
       "        vertical-align: top;\n",
       "    }\n",
       "</style>\n",
       "<table border=\"1\" class=\"dataframe\">\n",
       "  <thead>\n",
       "    <tr style=\"text-align: right;\">\n",
       "      <th></th>\n",
       "      <th>index</th>\n",
       "      <th>_id</th>\n",
       "      <th>coordinates</th>\n",
       "      <th>created_at</th>\n",
       "      <th>entities</th>\n",
       "      <th>favorite_count</th>\n",
       "      <th>favorited</th>\n",
       "      <th>followers_counts</th>\n",
       "      <th>friends_count</th>\n",
       "      <th>geo</th>\n",
       "      <th>...</th>\n",
       "      <th>num_statuses</th>\n",
       "      <th>retweet_count</th>\n",
       "      <th>retweeted</th>\n",
       "      <th>screen_name</th>\n",
       "      <th>source</th>\n",
       "      <th>text</th>\n",
       "      <th>user_desc</th>\n",
       "      <th>user_loc</th>\n",
       "      <th>verified</th>\n",
       "      <th>created</th>\n",
       "    </tr>\n",
       "  </thead>\n",
       "  <tbody>\n",
       "    <tr>\n",
       "      <th>20</th>\n",
       "      <td>786782</td>\n",
       "      <td>5938d2a31e931e05bab6a5d3</td>\n",
       "      <td>None</td>\n",
       "      <td>Tue May 30 17:54:20 +0000 2017</td>\n",
       "      <td>{'hashtags': [], 'symbols': [], 'user_mentions': [{'screen_name': 'TMZ', 'name': 'TMZ', 'id': 16331010, 'id_str': '16331010', 'indices': [96, 100]}], 'urls': [{'url': 'https://t.co/RLzHGykKhK', 'expanded_url': 'http://www.tmz.com/2017/05/30/kathy-griffin-beheads-donald-trump-photo-tyler-shields', 'display_url': 'tmz.com/2017/05/30/kat…', 'indices': [67, 90]}]}</td>\n",
       "      <td>0</td>\n",
       "      <td>False</td>\n",
       "      <td>1518</td>\n",
       "      <td>1091</td>\n",
       "      <td>None</td>\n",
       "      <td>...</td>\n",
       "      <td>947463</td>\n",
       "      <td>0</td>\n",
       "      <td>False</td>\n",
       "      <td>auldcove</td>\n",
       "      <td>&lt;a href=\"http://www.apple.com\" rel=\"nofollow\"&gt;iOS&lt;/a&gt;</td>\n",
       "      <td>Kathy Griffin Beheads Donald Trump in Shocking Photo Shoot (PHOTO)\\nhttps://t.co/RLzHGykKhK\\n\\nvia @TMZ</td>\n",
       "      <td></td>\n",
       "      <td>auldcove scotland</td>\n",
       "      <td>False</td>\n",
       "      <td>2017-05-30 13:54:20</td>\n",
       "    </tr>\n",
       "    <tr>\n",
       "      <th>25</th>\n",
       "      <td>786777</td>\n",
       "      <td>5938d2a31e931e05bab6a5ce</td>\n",
       "      <td>None</td>\n",
       "      <td>Tue May 30 17:55:50 +0000 2017</td>\n",
       "      <td>{'hashtags': [], 'symbols': [], 'user_mentions': [{'screen_name': 'TMZ', 'name': 'TMZ', 'id': 16331010, 'id_str': '16331010', 'indices': [71, 75]}], 'urls': [{'url': 'https://t.co/IjLOdI0lR4', 'expanded_url': 'http://www.tmz.com/2017/05/30/kathy-griffin-beheads-donald-trump-photo-tyler-shields', 'display_url': 'tmz.com/2017/05/30/kat…', 'indices': [107, 130]}]}</td>\n",
       "      <td>1</td>\n",
       "      <td>False</td>\n",
       "      <td>244</td>\n",
       "      <td>529</td>\n",
       "      <td>None</td>\n",
       "      <td>...</td>\n",
       "      <td>2508</td>\n",
       "      <td>1</td>\n",
       "      <td>False</td>\n",
       "      <td>LouiseClaudeRST</td>\n",
       "      <td>&lt;a href=\"http://twitter.com/download/iphone\" rel=\"nofollow\"&gt;Twitter for iPhone&lt;/a&gt;</td>\n",
       "      <td>Kathy Griffin Beheads Donald Trump in Shocking Photo Shoot (PHOTO) via @TMZ Does this mean we are free no? https://t.co/IjLOdI0lR4</td>\n",
       "      <td>SECRETLY SOURCED QUEEN OF ALL POLITICAL SOURCES ACCORDING TO MY SOURCES.(just PARODY fun in tense political climate. RT ME OR YOU HATE KITTENS&amp;PUPPIES!</td>\n",
       "      <td>Washington, DC</td>\n",
       "      <td>False</td>\n",
       "      <td>2017-05-30 13:55:50</td>\n",
       "    </tr>\n",
       "    <tr>\n",
       "      <th>29</th>\n",
       "      <td>786773</td>\n",
       "      <td>5938d2a31e931e05bab6a5ca</td>\n",
       "      <td>None</td>\n",
       "      <td>Tue May 30 17:56:09 +0000 2017</td>\n",
       "      <td>{'hashtags': [], 'symbols': [], 'user_mentions': [], 'urls': [{'url': 'https://t.co/cvMHUku26G', 'expanded_url': 'http://www.tmz.com/2017/05/30/kathy-griffin-beheads-donald-trump-photo-tyler-shields', 'display_url': 'tmz.com/2017/05/30/kat…', 'indices': [113, 136]}]}</td>\n",
       "      <td>1</td>\n",
       "      <td>False</td>\n",
       "      <td>75</td>\n",
       "      <td>182</td>\n",
       "      <td>None</td>\n",
       "      <td>...</td>\n",
       "      <td>837</td>\n",
       "      <td>0</td>\n",
       "      <td>False</td>\n",
       "      <td>mizzknowitalltv</td>\n",
       "      <td>&lt;a href=\"http://twitter.com/download/iphone\" rel=\"nofollow\"&gt;Twitter for iPhone&lt;/a&gt;</td>\n",
       "      <td>Kathy Griffin Beheads Donald Trump in Shocking Photo Shoot We need to boycott Kathy Griffin this is unacceptable https://t.co/cvMHUku26G</td>\n",
       "      <td>Blogger- Mizz Know It All TV focuses commentary on the latest news, gossip, controversial topics, entertainment news and holding the media responsible</td>\n",
       "      <td></td>\n",
       "      <td>False</td>\n",
       "      <td>2017-05-30 13:56:09</td>\n",
       "    </tr>\n",
       "    <tr>\n",
       "      <th>33</th>\n",
       "      <td>786769</td>\n",
       "      <td>5938d2a31e931e05bab6a5c6</td>\n",
       "      <td>None</td>\n",
       "      <td>Tue May 30 17:56:46 +0000 2017</td>\n",
       "      <td>{'hashtags': [], 'symbols': [], 'user_mentions': [{'screen_name': 'FBI', 'name': 'FBI', 'id': 17629860, 'id_str': '17629860', 'indices': [0, 4]}, {'screen_name': 'FBILosAngeles', 'name': 'FBI LosAngeles', 'id': 349137313, 'id_str': '349137313', 'indices': [5, 19]}, {'screen_name': 'SecretService', 'name': 'U.S. Secret Service', 'id': 115749048, 'id_str': '115749048', 'indices': [20, 34]}], 'urls': [{'url': 'https://t.co/oKSwEtIexT', 'expanded_url': 'http://www.tmz.com/2017/05/30/kathy-griffin-beheads-donald-trump-photo-tyler-shields', 'display_url': 'tmz.com/2017/05/30/kat…', 'indices': [116, 139]}]}</td>\n",
       "      <td>4</td>\n",
       "      <td>False</td>\n",
       "      <td>4828</td>\n",
       "      <td>5109</td>\n",
       "      <td>None</td>\n",
       "      <td>...</td>\n",
       "      <td>13725</td>\n",
       "      <td>6</td>\n",
       "      <td>False</td>\n",
       "      <td>JimChilds10</td>\n",
       "      <td>&lt;a href=\"http://twitter.com/download/iphone\" rel=\"nofollow\"&gt;Twitter for iPhone&lt;/a&gt;</td>\n",
       "      <td>@FBI @FBILosAngeles @SecretService is this ok by you all? If the laws have changed please let the rest of us know!  https://t.co/oKSwEtIexT</td>\n",
       "      <td>👆🏻That's My Brother! I need your help! I live in Texas &amp; I'm going to run for Congress in '18. It's time to put real Americans in DC! We need others! JOIN ME!</td>\n",
       "      <td>TEXAS</td>\n",
       "      <td>False</td>\n",
       "      <td>2017-05-30 13:56:46</td>\n",
       "    </tr>\n",
       "    <tr>\n",
       "      <th>37</th>\n",
       "      <td>786765</td>\n",
       "      <td>5938d2a31e931e05bab6a5c2</td>\n",
       "      <td>None</td>\n",
       "      <td>Tue May 30 17:57:14 +0000 2017</td>\n",
       "      <td>{'hashtags': [], 'symbols': [], 'user_mentions': [], 'urls': [{'url': 'https://t.co/yUnOQDumey', 'expanded_url': 'http://www.tmz.com/2017/05/30/kathy-griffin-beheads-donald-trump-photo-tyler-shields', 'display_url': 'tmz.com/2017/05/30/kat…', 'indices': [0, 23]}]}</td>\n",
       "      <td>0</td>\n",
       "      <td>False</td>\n",
       "      <td>2070</td>\n",
       "      <td>2342</td>\n",
       "      <td>None</td>\n",
       "      <td>...</td>\n",
       "      <td>49850</td>\n",
       "      <td>0</td>\n",
       "      <td>False</td>\n",
       "      <td>comcast66</td>\n",
       "      <td>&lt;a href=\"http://twitter.com/download/android\" rel=\"nofollow\"&gt;Twitter for Android&lt;/a&gt;</td>\n",
       "      <td>https://t.co/yUnOQDumey</td>\n",
       "      <td>Gay Conservative, Dexter is my Dream Daddy. Breastfeeding is for quitters  18+ 😲.</td>\n",
       "      <td>Fort Lauderdale</td>\n",
       "      <td>False</td>\n",
       "      <td>2017-05-30 13:57:14</td>\n",
       "    </tr>\n",
       "  </tbody>\n",
       "</table>\n",
       "<p>5 rows × 23 columns</p>\n",
       "</div>"
      ],
      "text/plain": [
       "     index                       _id coordinates  \\\n",
       "20  786782  5938d2a31e931e05bab6a5d3        None   \n",
       "25  786777  5938d2a31e931e05bab6a5ce        None   \n",
       "29  786773  5938d2a31e931e05bab6a5ca        None   \n",
       "33  786769  5938d2a31e931e05bab6a5c6        None   \n",
       "37  786765  5938d2a31e931e05bab6a5c2        None   \n",
       "\n",
       "                        created_at  \\\n",
       "20  Tue May 30 17:54:20 +0000 2017   \n",
       "25  Tue May 30 17:55:50 +0000 2017   \n",
       "29  Tue May 30 17:56:09 +0000 2017   \n",
       "33  Tue May 30 17:56:46 +0000 2017   \n",
       "37  Tue May 30 17:57:14 +0000 2017   \n",
       "\n",
       "                                                                                                                                                                                                                                                                                                                                                                                                                                                                                                                                                                                                                           entities  \\\n",
       "20                                                                                                                                                                                                                                                       {'hashtags': [], 'symbols': [], 'user_mentions': [{'screen_name': 'TMZ', 'name': 'TMZ', 'id': 16331010, 'id_str': '16331010', 'indices': [96, 100]}], 'urls': [{'url': 'https://t.co/RLzHGykKhK', 'expanded_url': 'http://www.tmz.com/2017/05/30/kathy-griffin-beheads-donald-trump-photo-tyler-shields', 'display_url': 'tmz.com/2017/05/30/kat…', 'indices': [67, 90]}]}   \n",
       "25                                                                                                                                                                                                                                                      {'hashtags': [], 'symbols': [], 'user_mentions': [{'screen_name': 'TMZ', 'name': 'TMZ', 'id': 16331010, 'id_str': '16331010', 'indices': [71, 75]}], 'urls': [{'url': 'https://t.co/IjLOdI0lR4', 'expanded_url': 'http://www.tmz.com/2017/05/30/kathy-griffin-beheads-donald-trump-photo-tyler-shields', 'display_url': 'tmz.com/2017/05/30/kat…', 'indices': [107, 130]}]}   \n",
       "29                                                                                                                                                                                                                                                                                                                                                      {'hashtags': [], 'symbols': [], 'user_mentions': [], 'urls': [{'url': 'https://t.co/cvMHUku26G', 'expanded_url': 'http://www.tmz.com/2017/05/30/kathy-griffin-beheads-donald-trump-photo-tyler-shields', 'display_url': 'tmz.com/2017/05/30/kat…', 'indices': [113, 136]}]}   \n",
       "33  {'hashtags': [], 'symbols': [], 'user_mentions': [{'screen_name': 'FBI', 'name': 'FBI', 'id': 17629860, 'id_str': '17629860', 'indices': [0, 4]}, {'screen_name': 'FBILosAngeles', 'name': 'FBI LosAngeles', 'id': 349137313, 'id_str': '349137313', 'indices': [5, 19]}, {'screen_name': 'SecretService', 'name': 'U.S. Secret Service', 'id': 115749048, 'id_str': '115749048', 'indices': [20, 34]}], 'urls': [{'url': 'https://t.co/oKSwEtIexT', 'expanded_url': 'http://www.tmz.com/2017/05/30/kathy-griffin-beheads-donald-trump-photo-tyler-shields', 'display_url': 'tmz.com/2017/05/30/kat…', 'indices': [116, 139]}]}   \n",
       "37                                                                                                                                                                                                                                                                                                                                                         {'hashtags': [], 'symbols': [], 'user_mentions': [], 'urls': [{'url': 'https://t.co/yUnOQDumey', 'expanded_url': 'http://www.tmz.com/2017/05/30/kathy-griffin-beheads-donald-trump-photo-tyler-shields', 'display_url': 'tmz.com/2017/05/30/kat…', 'indices': [0, 23]}]}   \n",
       "\n",
       "    favorite_count  favorited  followers_counts  friends_count   geo  \\\n",
       "20               0      False              1518           1091  None   \n",
       "25               1      False               244            529  None   \n",
       "29               1      False                75            182  None   \n",
       "33               4      False              4828           5109  None   \n",
       "37               0      False              2070           2342  None   \n",
       "\n",
       "           ...          num_statuses  retweet_count retweeted  \\\n",
       "20         ...                947463              0     False   \n",
       "25         ...                  2508              1     False   \n",
       "29         ...                   837              0     False   \n",
       "33         ...                 13725              6     False   \n",
       "37         ...                 49850              0     False   \n",
       "\n",
       "        screen_name  \\\n",
       "20         auldcove   \n",
       "25  LouiseClaudeRST   \n",
       "29  mizzknowitalltv   \n",
       "33      JimChilds10   \n",
       "37        comcast66   \n",
       "\n",
       "                                                                                  source  \\\n",
       "20                                 <a href=\"http://www.apple.com\" rel=\"nofollow\">iOS</a>   \n",
       "25    <a href=\"http://twitter.com/download/iphone\" rel=\"nofollow\">Twitter for iPhone</a>   \n",
       "29    <a href=\"http://twitter.com/download/iphone\" rel=\"nofollow\">Twitter for iPhone</a>   \n",
       "33    <a href=\"http://twitter.com/download/iphone\" rel=\"nofollow\">Twitter for iPhone</a>   \n",
       "37  <a href=\"http://twitter.com/download/android\" rel=\"nofollow\">Twitter for Android</a>   \n",
       "\n",
       "                                                                                                                                           text  \\\n",
       "20                                      Kathy Griffin Beheads Donald Trump in Shocking Photo Shoot (PHOTO)\\nhttps://t.co/RLzHGykKhK\\n\\nvia @TMZ   \n",
       "25           Kathy Griffin Beheads Donald Trump in Shocking Photo Shoot (PHOTO) via @TMZ Does this mean we are free no? https://t.co/IjLOdI0lR4   \n",
       "29     Kathy Griffin Beheads Donald Trump in Shocking Photo Shoot We need to boycott Kathy Griffin this is unacceptable https://t.co/cvMHUku26G   \n",
       "33  @FBI @FBILosAngeles @SecretService is this ok by you all? If the laws have changed please let the rest of us know!  https://t.co/oKSwEtIexT   \n",
       "37                                                                                                                      https://t.co/yUnOQDumey   \n",
       "\n",
       "                                                                                                                                                         user_desc  \\\n",
       "20                                                                                                                                                                   \n",
       "25         SECRETLY SOURCED QUEEN OF ALL POLITICAL SOURCES ACCORDING TO MY SOURCES.(just PARODY fun in tense political climate. RT ME OR YOU HATE KITTENS&PUPPIES!   \n",
       "29          Blogger- Mizz Know It All TV focuses commentary on the latest news, gossip, controversial topics, entertainment news and holding the media responsible   \n",
       "33  👆🏻That's My Brother! I need your help! I live in Texas & I'm going to run for Congress in '18. It's time to put real Americans in DC! We need others! JOIN ME!   \n",
       "37                                                                               Gay Conservative, Dexter is my Dream Daddy. Breastfeeding is for quitters  18+ 😲.   \n",
       "\n",
       "             user_loc verified             created  \n",
       "20  auldcove scotland    False 2017-05-30 13:54:20  \n",
       "25     Washington, DC    False 2017-05-30 13:55:50  \n",
       "29                       False 2017-05-30 13:56:09  \n",
       "33              TEXAS    False 2017-05-30 13:56:46  \n",
       "37    Fort Lauderdale    False 2017-05-30 13:57:14  \n",
       "\n",
       "[5 rows x 23 columns]"
      ]
     },
     "execution_count": 4,
     "metadata": {},
     "output_type": "execute_result"
    }
   ],
   "source": [
    "bots.head()"
   ]
  },
  {
   "cell_type": "markdown",
   "metadata": {
    "collapsed": true
   },
   "source": [
    "Let's which hashtags the bots are using:"
   ]
  },
  {
   "cell_type": "code",
   "execution_count": 5,
   "metadata": {
    "collapsed": true
   },
   "outputs": [],
   "source": [
    "hashtags = []\n",
    "for x in bots.entities.values:\n",
    "    if x[\"hashtags\"]:\n",
    "        for y in x[\"hashtags\"]:\n",
    "            hashtags.append(y[\"text\"])\n",
    "hashtags = [x.lower() for x in hashtags]"
   ]
  },
  {
   "cell_type": "code",
   "execution_count": 6,
   "metadata": {},
   "outputs": [
    {
     "data": {
      "text/plain": [
       "[('kathygriffin', 21008),\n",
       " ('maga', 14261),\n",
       " ('trump', 8394),\n",
       " ('tcot', 4722),\n",
       " ('fakenews', 4571),\n",
       " ('covfefe', 4321),\n",
       " ('sethrich', 3949),\n",
       " ('cnnisisis', 2821),\n",
       " ('retweet', 2805),\n",
       " ('cnn', 2317),\n",
       " ('hannity', 1988),\n",
       " ('trumptrain', 1941),\n",
       " ('lockherup', 1853),\n",
       " ('flashbackfriday', 1828),\n",
       " ('kathygriffinhatecrime', 1732),\n",
       " ('kathy_griffin', 1573),\n",
       " ('rats', 1301),\n",
       " ('tucker', 1274),\n",
       " ('stopthescalpings', 1263),\n",
       " ('wednesdaywisdom', 1175),\n",
       " ('arrestkathygriffin', 927),\n",
       " ('apologynotaccepted', 892),\n",
       " ('boycottkathygriffin', 811),\n",
       " ('trumpusa', 810),\n",
       " ('projection', 801),\n",
       " ('periscope', 784),\n",
       " ('infowars', 780),\n",
       " ('ccot', 761),\n",
       " ('dumped', 726),\n",
       " ('alexjonesshow', 714),\n",
       " ('stillfired', 680),\n",
       " ('saturdaymorning', 678),\n",
       " ('stopthebeheadings', 662),\n",
       " ('tlot', 616),\n",
       " ('kathy', 609),\n",
       " ('fired', 586),\n",
       " ('resistance', 550),\n",
       " ('fullretard', 549),\n",
       " ('griffin', 541),\n",
       " ('isis', 537),\n",
       " ('thefive', 492),\n",
       " ('boycottcnn', 471),\n",
       " ('breaking', 453),\n",
       " ('potus', 450),\n",
       " ('kathgriffin', 429),\n",
       " ('p2', 403),\n",
       " ('boycott', 395),\n",
       " ('ma4t', 374),\n",
       " ('leftistsarenuts', 358),\n",
       " ('news', 357)]"
      ]
     },
     "execution_count": 6,
     "metadata": {},
     "output_type": "execute_result"
    }
   ],
   "source": [
    "Counter(hashtags).most_common(50)"
   ]
  },
  {
   "cell_type": "markdown",
   "metadata": {},
   "source": [
    "Whoa! Almost all the top hashtags (except kathygriffin) seem to be hashtags we expect from conservatives."
   ]
  },
  {
   "cell_type": "code",
   "execution_count": 7,
   "metadata": {
    "collapsed": true
   },
   "outputs": [],
   "source": [
    "urls = []\n",
    "for x in bots.entities:\n",
    "    if x[\"urls\"]:\n",
    "        urls.append(x[\"urls\"][0][\"expanded_url\"])"
   ]
  },
  {
   "cell_type": "code",
   "execution_count": 8,
   "metadata": {},
   "outputs": [
    {
     "data": {
      "text/plain": [
       "[('http://www.dailywire.com/news/16998/disgusting-kathy-griffin-holds-trumps-bloody-hank-berrien',\n",
       "  6267),\n",
       " ('http://www.vulture.com/2016/12/kathy-griffin-comedy-should-go-hard-on-trump.html',\n",
       "  4837),\n",
       " ('https://twitter.com/kathygriffin/status/5249479639', 3527),\n",
       " ('http://www.theamericanmirror.com/satan-worshipers-disavow-kathy-griffin-grotesque-trump-behead/',\n",
       "  3438),\n",
       " ('http://dailycaller.com/2017/05/30/should-cnn-snatch-kathy-griffin-off-its-new-years-eve-special/',\n",
       "  2764),\n",
       " ('http://fxn.ws/2sdskCg', 2393),\n",
       " ('http://www.tmz.com/2017/05/30/kathy-griffin-beheads-donald-trump-photo-tyler-shields/',\n",
       "  2209),\n",
       " ('http://ow.ly/LPgx30caKRp', 2048),\n",
       " ('http://www.thegatewaypundit.com/2017/05/comedienne-roseanne-barr-kathy-griffin-slap-fck-btch/',\n",
       "  1877),\n",
       " ('http://fxn.ws/2rl1Ezx', 1860),\n",
       " ('https://www.google.com/amp/amp.tmz.com/2017/06/02/kathy-griffin-concert-canceled-trump',\n",
       "  1805),\n",
       " ('http://www.tmz.com/2017/06/02/kathy-griffin-concert-canceled-trump/', 1644),\n",
       " ('http://www.thegatewaypundit.com/2017/05/kathy-griffin-traumatizes-11-year-old-barron-trump-thought-image-dad/',\n",
       "  1560),\n",
       " ('http://www.foxnews.com/entertainment/2017/06/03/kathy-griffin-feels-betrayed-by-anderson-cooper-after-firing.html',\n",
       "  1330),\n",
       " ('http://www.altwavemedia.com/breaking-route-66-casino-cancels-kathy-griffin-performance/',\n",
       "  1306),\n",
       " ('http://www.politico.com/story/2017/06/01/al-franken-kathy-griffin-cancels-event-239047',\n",
       "  1272),\n",
       " ('http://bit.ly/2sdWaXv', 1259),\n",
       " ('http://dailycaller.com/2017/05/31/cnn-dumps-kathy-griffin-from-its-new-years-eve-special/',\n",
       "  1244),\n",
       " ('http://www.altwavemedia.com/adt-pulls-ads-cnn/', 1183),\n",
       " ('http://insider.foxnews.com/2017/05/31/kathy-griffin-donald-trump-beheaded-photo-judge-jeanine-responds-video',\n",
       "  1144)]"
      ]
     },
     "execution_count": 8,
     "metadata": {},
     "output_type": "execute_result"
    }
   ],
   "source": [
    "Counter(urls).most_common(20)"
   ]
  },
  {
   "cell_type": "markdown",
   "metadata": {
    "collapsed": true
   },
   "source": [
    "Links seem to be mostly conservative too.."
   ]
  },
  {
   "cell_type": "code",
   "execution_count": 10,
   "metadata": {},
   "outputs": [
    {
     "data": {
      "text/plain": [
       "(array([ 736480.,  736481.,  736482.,  736483.,  736484.,  736485.]),\n",
       " <a list of 6 Text xticklabel objects>)"
      ]
     },
     "execution_count": 10,
     "metadata": {},
     "output_type": "execute_result"
    },
    {
     "data": {
      "image/png": "[encoded data removed]",
      "text/plain": [
       "<matplotlib.figure.Figure at 0x7f0e43e9de80>"
      ]
     },
     "metadata": {},
     "output_type": "display_data"
    }
   ],
   "source": [
    "bots.created.hist()\n",
    "plt.xticks(rotation=90)"
   ]
  },
  {
   "cell_type": "markdown",
   "metadata": {},
   "source": [
    "Most bot tweets seem to be in the first 2 days."
   ]
  },
  {
   "cell_type": "code",
   "execution_count": null,
   "metadata": {
    "collapsed": true
   },
   "outputs": [],
   "source": []
  }
 ],
 "metadata": {
  "kernelspec": {
   "display_name": "Python 3",
   "language": "python",
   "name": "python3"
  },
  "language_info": {
   "codemirror_mode": {
    "name": "ipython",
    "version": 3
   },
   "file_extension": ".py",
   "mimetype": "text/x-python",
   "name": "python",
   "nbconvert_exporter": "python",
   "pygments_lexer": "ipython3",
   "version": "3.6.1"
  }
 },
 "nbformat": 4,
 "nbformat_minor": 2
}
