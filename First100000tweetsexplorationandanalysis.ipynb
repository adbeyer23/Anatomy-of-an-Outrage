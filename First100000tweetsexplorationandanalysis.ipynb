{
 "cells": [
  {
   "cell_type": "markdown",
   "metadata": {},
   "source": [
    "Here we are going to extract the first 100000 tweets to understand how the Kathy Griffin story initially spread."
   ]
  },
  {
   "cell_type": "code",
   "execution_count": 57,
   "metadata": {},
   "outputs": [],
   "source": [
    "import pandas as pd\n",
    "#import gensim\n",
    "from sklearn.feature_extraction.text import CountVectorizer,TfidfVectorizer\n",
    "from sklearn.decomposition import LatentDirichletAllocation, NMF\n",
    "import numpy\n",
    "import seaborn as sns\n",
    "import matplotlib.pyplot as plt\n",
    "%matplotlib inline \n",
    "pd.set_option('max_colwidth',1000)\n",
    "from collections import Counter\n",
    "from vaderSentiment.vaderSentiment import SentimentIntensityAnalyzer\n",
    "import re\n",
    "import string\n",
    "from nltk.tokenize import word_tokenize\n",
    "from nltk.stem import SnowballStemmer\n",
    "from nltk.stem.wordnet import WordNetLemmatizer\n",
    "from nltk.corpus import wordnet\n",
    "from nltk.corpus import stopwords\n",
    "from nltk import pos_tag\n",
    "import nltk\n"
   ]
  },
  {
   "cell_type": "code",
   "execution_count": 8,
   "metadata": {
    "collapsed": true
   },
   "outputs": [],
   "source": [
    "final_data = pd.read_pickle(\"datanobots.pkl\")\n",
    "first100k = final_data.head(100000)\n",
    "first100k = first100k.reset_index()"
   ]
  },
  {
   "cell_type": "code",
   "execution_count": 13,
   "metadata": {
    "collapsed": true
   },
   "outputs": [],
   "source": [
    "#removing some tweets that came before the story was released\n",
    "first100k = first100k[first100k.created > pd.Timestamp('2017-05-30 13:30:00')]\n"
   ]
  },
  {
   "cell_type": "code",
   "execution_count": 12,
   "metadata": {},
   "outputs": [
    {
     "data": {
      "text/plain": [
       "(array([ 736479.58333333,  736479.625     ,  736479.66666667,\n",
       "         736479.70833333,  736479.75      ,  736479.79166667]),\n",
       " <a list of 6 Text xticklabel objects>)"
      ]
     },
     "execution_count": 12,
     "metadata": {},
     "output_type": "execute_result"
    },
    {
     "data": {
      "image/png": "[encoded data removed]",
      "text/plain": [
       "<matplotlib.figure.Figure at 0x7f1f94dfab00>"
      ]
     },
     "metadata": {},
     "output_type": "display_data"
    }
   ],
   "source": [
    "first100k.created.hist()\n",
    "plt.xticks(rotation=90)"
   ]
  },
  {
   "cell_type": "markdown",
   "metadata": {},
   "source": [
    "It takes a bit of time for people to start tweeting a lot about the story."
   ]
  },
  {
   "cell_type": "markdown",
   "metadata": {},
   "source": [
    "Now lets look at what hashtags are being used."
   ]
  },
  {
   "cell_type": "code",
   "execution_count": 15,
   "metadata": {
    "collapsed": true
   },
   "outputs": [],
   "source": [
    "def extract_hashtags(row):\n",
    "    hashtags = []\n",
    "    if row[\"hashtags\"]:\n",
    "        for x in row[\"hashtags\"]:\n",
    "            hashtags.append(x[\"text\"])\n",
    "        return hashtags\n",
    "    else:\n",
    "        return 0"
   ]
  },
  {
   "cell_type": "code",
   "execution_count": 16,
   "metadata": {
    "collapsed": true
   },
   "outputs": [],
   "source": [
    "hashtags = []\n",
    "for x in first100k.entities.values:\n",
    "    if x[\"hashtags\"]:\n",
    "        for y in x[\"hashtags\"]:\n",
    "            hashtags.append(y[\"text\"])\n",
    "hashtags = [x.lower() for x in hashtags]"
   ]
  },
  {
   "cell_type": "code",
   "execution_count": 17,
   "metadata": {},
   "outputs": [
    {
     "data": {
      "text/plain": [
       "[('kathygriffin', 1326),\n",
       " ('maga', 653),\n",
       " ('trump', 484),\n",
       " ('theresistance', 409),\n",
       " ('retweet', 400),\n",
       " ('lockherup', 320),\n",
       " ('periscope', 269),\n",
       " ('tcot', 268),\n",
       " ('leftistsarenuts', 202),\n",
       " ('fakenews', 161),\n",
       " ('dumbshit', 127),\n",
       " ('whitehousesongs', 118),\n",
       " ('tuesdaymotivation', 118),\n",
       " ('cnn', 106),\n",
       " ('مسابقه_الوليد_شفاه_الله_4', 84),\n",
       " ('kathy', 81),\n",
       " ('stopthescalpings', 81),\n",
       " ('pureevil', 74),\n",
       " ('kathygriffinhatecrime', 67),\n",
       " ('kekistan', 66)]"
      ]
     },
     "execution_count": 17,
     "metadata": {},
     "output_type": "execute_result"
    }
   ],
   "source": [
    "Counter(hashtags).most_common(20)"
   ]
  },
  {
   "cell_type": "markdown",
   "metadata": {},
   "source": [
    "Most hashtags seems to be conservative slanted but there are some liberal ones like theresistance in here"
   ]
  },
  {
   "cell_type": "markdown",
   "metadata": {},
   "source": [
    "Now lets look at urls"
   ]
  },
  {
   "cell_type": "code",
   "execution_count": 18,
   "metadata": {
    "collapsed": true
   },
   "outputs": [],
   "source": [
    "urls = []\n",
    "for x in first100k.entities.values:\n",
    "    if x[\"urls\"]:\n",
    "        urls.append(x[\"urls\"][0][\"expanded_url\"])"
   ]
  },
  {
   "cell_type": "code",
   "execution_count": 19,
   "metadata": {},
   "outputs": [
    {
     "data": {
      "text/plain": [
       "[('http://www.dailywire.com/news/16998/disgusting-kathy-griffin-holds-trumps-bloody-hank-berrien',\n",
       "  4564),\n",
       " ('http://www.tmz.com/2017/05/30/kathy-griffin-beheads-donald-trump-photo-tyler-shields/',\n",
       "  1973),\n",
       " ('http://breaking911.com/kathy-griffin-beheads-president-trump-shocking-new-photos/',\n",
       "  707),\n",
       " ('https://twitter.com/Breaking911/status/869618179391336450', 537),\n",
       " ('http://fb.me/4D5JEP5rZ', 388),\n",
       " ('http://www.breitbart.com/big-hollywood/2017/05/30/kathy-griffin-beheads-donald-trump-shock-bloody-photo/',\n",
       "  321),\n",
       " ('http://bit.ly/2siT0kc', 309),\n",
       " ('https://twitter.com/polnewsforever/status/869621326650257408', 307),\n",
       " ('http://dlvr.it/PH38yr', 291),\n",
       " ('http://www.foxnews.com/entertainment/2017/05/30/kathy-griffin-holds-bloodied-trump-mask-in-photo-shoot-with-tyler-shields.html',\n",
       "  286),\n",
       " ('https://twitter.com/TheDailyEdge/status/869422284573900800', 283),\n",
       " ('http://www.thegatewaypundit.com/2017/05/disgusting-washed-comedian-kathy-griffin-beheads-trump-laughs/',\n",
       "  200),\n",
       " ('http://bit.ly/2rBFP1C', 194),\n",
       " ('https://www.pscp.tv/w/a_x_RDE0MDc0NTN8MWxQSnF5Wm1qcVBKYnGxTqn_ZCuJpw4qfa_TV5k25i6DBbpM3AH9VprKFotP',\n",
       "  184),\n",
       " ('http://hill.cm/RuCcTwX', 177),\n",
       " ('http://www.chicksontheright.com/kathy-griffin-beheads-donald-trump-completely-not-threatening-display-virtue-signaling-comedy/?ref=Ads',\n",
       "  145),\n",
       " ('http://fxn.ws/2qykAJN', 137),\n",
       " ('https://www.pscp.tv/w/a_yVHzE0MDc0NTN8MW1ueGVFVlJ3cnF4WAMgLh-gCRD2bLGdWe2jbizF6f1eDGhzPA6_n2CeH62P',\n",
       "  129),\n",
       " ('http://bit.ly/2qCUeFY', 128),\n",
       " ('http://www.tmz.com/2017/05/30/kathy-griffin-beheads-donald-trump-photo-tyler-shields',\n",
       "  124)]"
      ]
     },
     "execution_count": 19,
     "metadata": {},
     "output_type": "execute_result"
    }
   ],
   "source": [
    "Counter(urls).most_common(20)"
   ]
  },
  {
   "cell_type": "markdown",
   "metadata": {},
   "source": [
    "Interesting..the daily wire is the most retweeted article even though it was not the one to break the story (came about 1.5 hours after the original TMZ story). This website is highly conservative suggesting conservatives were propping this story up."
   ]
  },
  {
   "cell_type": "markdown",
   "metadata": {},
   "source": [
    "Now we are going to look at  identifing the political affliation and where these people are retweeting from. I identified  conservatives and liberals with 100k followers, news sites, and the two most retweeted links: dailywire and TMZ. The purpose of this is to get a better understanding of how the story spread. These tweets will be graphed with this information in a different notebook.\n",
    "\n",
    "I determined who were conservatives and who were liberals based on hashtags they are using and their user description\n",
    "\n",
    "\n",
    "The code for this, and what signifies liberal or conservative was made with a lot of trial and error"
   ]
  },
  {
   "cell_type": "code",
   "execution_count": 22,
   "metadata": {
    "collapsed": true
   },
   "outputs": [],
   "source": [
    "#Here creating certain masks to search user descriptions for these signifying words\n",
    "#One would expect \"liberal\" in the liberal mask. However, when I looked at that, most people with \"liberal\" in their\n",
    "#description were using it like \"bashing liberal beliefs\" or something like that.\n",
    "conservative_mask_desc = (\"|\").join([\"maga\", \"trump\", \"tcot\", \"fakenews\", \"covfefe\", \"sethrich\", \"cnnisisis\", \"hannity\", \"trumptrain\",\n",
    "                \"lockherup\", \"kathygriffinhatecrime\", \"tucker\", \"arrestkathygriffin\", \"apologynotaccepted\",\n",
    "                \"trumpusa\", \"infowars\", \"isis\", \"leftistsarenuts\", \"alexjonesshow\", \"tucker\", \"conservative\", \"republican\", \"patriot\", \"prolife\", \"pro-life\"])\n",
    "liberal_mask_desc = (\"|\").join([\"antifa\", \"theresistance\", \"resistance\", \"#p2\", \"blacklivesmatter\", \"democrat\", \"pro choice\", \"progessive\"])"
   ]
  },
  {
   "cell_type": "code",
   "execution_count": 23,
   "metadata": {
    "collapsed": true
   },
   "outputs": [],
   "source": [
    "conservative_mask_desc = first100k.user_desc.str.contains(conservative_mask_desc, case=False)\n",
    "liberal_mask_desc =first100k.user_desc.str.contains(liberal_mask_desc, case=False)"
   ]
  },
  {
   "cell_type": "code",
   "execution_count": 24,
   "metadata": {
    "collapsed": true
   },
   "outputs": [],
   "source": [
    "def check_url(row):\n",
    "    try:\n",
    "        if row[\"urls\"][0]:\n",
    "            if row[\"urls\"][0][\"expanded_url\"] ==\"http://www.tmz.com/2017/05/30/kathy-griffin-beheads-donald-trump-photo-tyler-shields\":\n",
    "                return 1\n",
    "                \n",
    "            elif row[\"urls\"][0][\"expanded_url\"] == \"http://www.tmz.com/2017/05/30/kathy-griffin-beheads-donald-trump-photo-tyler-shields/\":\n",
    "                return 1\n",
    "                \n",
    "            elif row[\"urls\"][0][\"expanded_url\"] == \"http://www.dailywire.com/news/16998/disgusting-kathy-griffin-holds-trumps-bloody-hank-berrien\":\n",
    "                return 2\n",
    "            #this facebook article also leads to the dailywire \n",
    "            elif row[\"urls\"][0][\"expanded_url\"] == \"http://fb.me/4D5JEP5rZ\":\n",
    "                return 2\n",
    "        else:\n",
    "            return 0\n",
    "    except:\n",
    "        return 0"
   ]
  },
  {
   "cell_type": "code",
   "execution_count": 27,
   "metadata": {
    "collapsed": true
   },
   "outputs": [],
   "source": [
    "#the order in which you run this code changes the results...slightly...but not in any real meaningful way\n",
    "first100k[\"type\"] = 0\n",
    "first100k[\"type\"] = first100k.entities.apply(lambda x: check_url(x))\n",
    "first100k.loc[first100k.user_desc.str.contains(\"mashable|cbsnews|news|msncbc|dailybeast|cnn|foxnews|@foxnews|cbs|nbc|abc|buzzfeed|yahoo|nymag|tmz|breitbart|dailywire\", case=False), \"type\"] = 3\n",
    "\n",
    "first100k.loc[first100k.text.str.contains(\"tmz|@tmz|https://t.co/rzXjz380Ax|https://t.co/RLzHGykKhK\", case=False), \"type\"] = 1\n",
    "#first100k.type.value_counts()\n",
    "\n",
    "first100k.loc[first100k.text.str.contains(\"dailywire|@dailywire\", case=False), \"type\"] = 2\n",
    "#first100k.loc[first100k.entities['urls'][0][\"expanded_url\"] == \"http://fb.me/4D5JEP5rZ\"] = 2\n",
    "first100k.loc[(first100k.followers_counts <  100000) & (first100k.type ==3) , \"type\"] = 0\n",
    "\n",
    "first100k.loc[(first100k.followers_counts >  100000) & conservative_mask_desc , \"type\"] = 4\n",
    "first100k.loc[(first100k.followers_counts >  100000) & liberal_mask_desc , \"type\"] = 5\n",
    "\n",
    "#This line is to ensure that the news sites we are getting are probably actually news sites and not just people putting\n",
    "#news in their description \n",
    "first100k.loc[(first100k.followers_counts <  50000) & (first100k.type == 3) , \"type\"] = 0\n"
   ]
  },
  {
   "cell_type": "code",
   "execution_count": 68,
   "metadata": {},
   "outputs": [
    {
     "data": {
      "text/plain": [
       "0.0    77002\n",
       "2.0     4879\n",
       "1.0     2742\n",
       "4.0      116\n",
       "3.0       96\n",
       "5.0        8\n",
       "Name: type, dtype: int64"
      ]
     },
     "execution_count": 68,
     "metadata": {},
     "output_type": "execute_result"
    }
   ],
   "source": [
    "#0 --normal tweet, 2 -- dailywire reference, 3 -- news references,\n",
    "#4 -- conservative heavy hitters, 5 -- liberal heavy hitters\n",
    "first100k.type.value_counts()\n"
   ]
  },
  {
   "cell_type": "markdown",
   "metadata": {},
   "source": [
    "This is intriguing. Either it is much easier to identify conservatives or just not that many liberal people were talkng about this story."
   ]
  },
  {
   "cell_type": "markdown",
   "metadata": {},
   "source": [
    "Let's look at the polarity of tweets too...that will be useful for graphing"
   ]
  },
  {
   "cell_type": "code",
   "execution_count": 30,
   "metadata": {
    "collapsed": true
   },
   "outputs": [],
   "source": [
    "ab = SentimentIntensityAnalyzer()\n",
    "def polarity(row):\n",
    "    vs = ab.polarity_scores(row)\n",
    "    return vs[\"compound\"]"
   ]
  },
  {
   "cell_type": "markdown",
   "metadata": {},
   "source": [
    "Tweets tend to be negative which is unsuprising given the heavy conservative element and subject matter"
   ]
  },
  {
   "cell_type": "code",
   "execution_count": 31,
   "metadata": {},
   "outputs": [
    {
     "data": {
      "text/plain": [
       "-0.18766900338006759"
      ]
     },
     "execution_count": 31,
     "metadata": {},
     "output_type": "execute_result"
    }
   ],
   "source": [
    "first100k[\"polarity\"] = first100k.text.apply(lambda x: polarity(x))\n",
    "first100k.polarity.mean()"
   ]
  },
  {
   "cell_type": "markdown",
   "metadata": {},
   "source": [
    "Now lets move on to some topic modelling to see what people are talking about. I initially ran topic modelling with both TFIDF and count vectorizer with LDA and LMF with a variety of ngrams and components/topics. I will only show a couple here."
   ]
  },
  {
   "cell_type": "code",
   "execution_count": 46,
   "metadata": {
    "collapsed": true
   },
   "outputs": [],
   "source": [
    "def get_wordnet_pos(row):\n",
    "    \"\"\"Convert the part-of-speech naming scheme\n",
    "       from the nltk default to that which is\n",
    "       recognized by the WordNet lemmatizer\"\"\"\n",
    "    treebank_tag = pos_tag([row])\n",
    "    if treebank_tag[0][1].startswith('J'):\n",
    "        return wordnet.ADJ\n",
    "        print(treebank_tag)\n",
    "    elif treebank_tag[0][1].startswith('V'):\n",
    "        return wordnet.VERB\n",
    "\n",
    "    elif treebank_tag[0][1].startswith('N'):\n",
    "        return wordnet.NOUN\n",
    "\n",
    "    elif treebank_tag[0][1].startswith('R'):\n",
    "        return wordnet.ADV\n",
    "    else:\n",
    "        return wordnet.NOUN"
   ]
  },
  {
   "cell_type": "code",
   "execution_count": 59,
   "metadata": {
    "collapsed": true
   },
   "outputs": [],
   "source": [
    "count_vectorizer = CountVectorizer(ngram_range=((1,1)),  \n",
    "                                   stop_words=stopwords, \n",
    "                                   analyzer = \"word\",\n",
    "                                   tokenizer = text_cleaner_and_stemmer,\n",
    "                                   token_pattern=\"\\\\b[a-z][a-z]+\\\\b\",\n",
    "                                   min_df=25, max_df=.95,\n",
    "                                   lowercase=True)\n",
    "\n",
    "TV = TfidfVectorizer(ngram_range=(1, 1), \n",
    "                                                        stop_words=stopwords, \n",
    "                                                                       tokenizer = text_cleaner_and_stemmer,\n",
    "\n",
    "                                    token_pattern=\"\\\\b[a-z][a-z]+\\\\b\", min_df=40, max_df=.95)"
   ]
  },
  {
   "cell_type": "markdown",
   "metadata": {},
   "source": [
    "Adding stopwords to make sure topics aren't clustering around Griffin or Trump"
   ]
  },
  {
   "cell_type": "code",
   "execution_count": 58,
   "metadata": {},
   "outputs": [],
   "source": [
    "stopwords = stopwords.words(\"english\")  + [\"Kathy\", \"Griffin\", \"Donald\", \"Trump\", \"kathy\", \"griffin\", \"rt\", \"...\", \"trump\", \"donald\"]"
   ]
  },
  {
   "cell_type": "code",
   "execution_count": 60,
   "metadata": {
    "collapsed": true
   },
   "outputs": [],
   "source": [
    "def text_cleaner_and_stemmer(row):\n",
    "    if type(row) != str :\n",
    "        row = row.decode('utf-8')\n",
    "    row = re.sub('@([A-Za-z0-9_]+)',' ', row)\n",
    "    row = re.sub('http[s]?://(?:[a-zA-Z]|[0-9]|[$-_@.&+]|[!*\\(\\),]|(?:%[0-9a-fA-F][0-9a-fA-F]))+',' ', row)\n",
    "    regex = re.compile('[%s]' % re.escape(string.punctuation))\n",
    "    row = regex.sub('', row)\n",
    "    row = row.replace(\"RT\", \" \")\n",
    "    row = word_tokenize(row)\n",
    "    lemmatizer = WordNetLemmatizer()\n",
    "    lemmatizer_fun = lambda x: lemmatizer.lemmatize(x, get_wordnet_pos(x))\n",
    "    \n",
    "    lemmatizer_fun_outer = lambda x: list(map(lemmatizer_fun, x))\n",
    "    \n",
    "    return generalize_fun(row, lemmatizer_fun_outer)\n",
    "    \n",
    "\n",
    "def generalize_fun(corpus, lambda_fun):\n",
    "# must handle a list of lists (tokenized docs) and also a simple list\n",
    "    try:\n",
    "        if isinstance(corpus[0], list):\n",
    "            # list of lists\n",
    "            corpus = map(lambda_fun, corpus)\n",
    "        else:\n",
    "            # single list\n",
    "            corpus = lambda_fun(corpus)\n",
    "        return list(corpus)\n",
    "    except:\n",
    "        return \"\"\n",
    "    \n",
    "\n",
    "    \n",
    "        "
   ]
  },
  {
   "cell_type": "code",
   "execution_count": 61,
   "metadata": {
    "collapsed": true
   },
   "outputs": [],
   "source": [
    "def print_topic_top_words(model, cv, n_top_words=10):\n",
    "    feature_names = cv.get_feature_names()\n",
    "    \n",
    "    for topic_vec in enumerate(model.components_):\n",
    "        topic_num = topic_vec[0]\n",
    "        topic_words = topic_vec[1]\n",
    "        \n",
    "        print('Topic {}:'.format(topic_num + 1))\n",
    "        \n",
    "        topic_values = sorted(zip(topic_words, feature_names), \n",
    "                              reverse=True)[:n_top_words]\n",
    "    \n",
    "        print(' '.join([y for x,y in topic_values]))\n",
    "        # pprint(topic_values)\n",
    "        \n",
    "    return"
   ]
  },
  {
   "cell_type": "code",
   "execution_count": 62,
   "metadata": {},
   "outputs": [],
   "source": [
    "X = count_vectorizer.fit_transform(first100k.text)"
   ]
  },
  {
   "cell_type": "code",
   "execution_count": 63,
   "metadata": {},
   "outputs": [],
   "source": [
    "X1 = TV.fit_transform(first100k.text)"
   ]
  },
  {
   "cell_type": "code",
   "execution_count": 64,
   "metadata": {},
   "outputs": [
    {
     "data": {
      "text/plain": [
       "NMF(alpha=0.0, beta=1, eta=0.1, init=None, l1_ratio=0.0, max_iter=50,\n",
       "  n_components=5, nls_max_iter=2000, random_state=42, shuffle=False,\n",
       "  solver='cd', sparseness=None, tol=0.0001, verbose=0)"
      ]
     },
     "execution_count": 64,
     "metadata": {},
     "output_type": "execute_result"
    }
   ],
   "source": [
    "nmf = NMF(n_components = 5, max_iter=50, random_state=42)\n",
    "nmf.fit(X)"
   ]
  },
  {
   "cell_type": "code",
   "execution_count": 65,
   "metadata": {},
   "outputs": [
    {
     "name": "stderr",
     "output_type": "stream",
     "text": [
      "/usr/local/anaconda3/lib/python3.6/site-packages/sklearn/decomposition/online_lda.py:508: DeprecationWarning: The default value for 'learning_method' will be changed from 'online' to 'batch' in the release 0.20. This warning was introduced in 0.18.\n",
      "  DeprecationWarning)\n"
     ]
    },
    {
     "data": {
      "text/plain": [
       "LatentDirichletAllocation(batch_size=128, doc_topic_prior=None,\n",
       "             evaluate_every=-1, learning_decay=0.7, learning_method=None,\n",
       "             learning_offset=10.0, max_doc_update_iter=100, max_iter=30,\n",
       "             mean_change_tol=0.001, n_jobs=1, n_topics=3, perp_tol=0.1,\n",
       "             random_state=None, topic_word_prior=None,\n",
       "             total_samples=1000000.0, verbose=0)"
      ]
     },
     "execution_count": 65,
     "metadata": {},
     "output_type": "execute_result"
    }
   ],
   "source": [
    "lda = LatentDirichletAllocation(n_topics=3, max_iter=30)\n",
    "lda.fit(X1)"
   ]
  },
  {
   "cell_type": "code",
   "execution_count": 66,
   "metadata": {},
   "outputs": [
    {
     "name": "stdout",
     "output_type": "stream",
     "text": [
      "Topic 1:\n",
      "new year host eve cnn hey … like advertiser would show know special longer announce right youre immediately now… condone\n",
      "Topic 2:\n",
      "head decapitate conservative … mockup pose imagine celebrity obamas meltdown hold liberal bloody sever call obama go art isi they…\n",
      "Topic 3:\n",
      "obama get leftist mask remember im wear fire clown rodeo enough old right president violence speech call tell era language\n",
      "Topic 4:\n",
      "photo president beheads think shock shoot condemn human isi r notice bloody violence violent hold also via horrible an… disaster\n",
      "Topic 5:\n",
      "amp even low post become politics repugnant vulgar base descends v… call people everyone hope shes cnn realize set precedent\n"
     ]
    }
   ],
   "source": [
    "print_topic_top_words(nmf, count_vectorizer, n_top_words=20)"
   ]
  },
  {
   "cell_type": "code",
   "execution_count": 67,
   "metadata": {},
   "outputs": [
    {
     "name": "stdout",
     "output_type": "stream",
     "text": [
      "Topic 1:\n",
      "photo beheads think president bloody violent violence shock shoot tell hold leftist era language usher head funny video human tweet\n",
      "Topic 2:\n",
      "new … year host like eve hey show conservative cnn head decapitate advertiser would know mockup imagine celebrity service secret\n",
      "Topic 3:\n",
      "isi obama get amp liberal people well call im speech wore remember see fire hold mask wear clown hope even\n"
     ]
    }
   ],
   "source": [
    "print_topic_top_words(lda, TV, n_top_words=20)"
   ]
  },
  {
   "cell_type": "markdown",
   "metadata": {},
   "source": [
    "As we can see from these topics, there is a lot of clustering arpund what appears to be conservative viewpoints. For example there is comparisons to Obama's presidency when a rodeo clown was fired for wearing an Obama mask, talks of getting Kathy Griffin fired from CNN, comparisons to isis (\"isi\") and words like meltdown and liberal being used a lot"
   ]
  },
  {
   "cell_type": "markdown",
   "metadata": {},
   "source": [
    "The main takeaway is that it appears that conservatives really propped up  this story and made it so talked about. This is further seen in the graph of these tweets. To see the graph, please look at Act I of the presentation slides."
   ]
  },
  {
   "cell_type": "code",
   "execution_count": null,
   "metadata": {
    "collapsed": true
   },
   "outputs": [],
   "source": []
  }
 ],
 "metadata": {
  "kernelspec": {
   "display_name": "Python 3",
   "language": "python",
   "name": "python3"
  },
  "language_info": {
   "codemirror_mode": {
    "name": "ipython",
    "version": 3
   },
   "file_extension": ".py",
   "mimetype": "text/x-python",
   "name": "python",
   "nbconvert_exporter": "python",
   "pygments_lexer": "ipython3",
   "version": "3.6.1"
  }
 },
 "nbformat": 4,
 "nbformat_minor": 2
}
