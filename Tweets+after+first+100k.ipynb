{
 "cells": [
  {
   "cell_type": "markdown",
   "metadata": {},
   "source": [
    "In this notebook I will be looking at the rest of the tweets after the first 100k to get an understanding of the different topics people were talking about, and to try to understand how things have changed since the first 100k tweets."
   ]
  },
  {
   "cell_type": "code",
   "execution_count": 11,
   "metadata": {
    "collapsed": true
   },
   "outputs": [],
   "source": [
    "import pandas as pd\n",
    "#import gensim\n",
    "from sklearn.feature_extraction.text import CountVectorizer,TfidfVectorizer\n",
    "from sklearn.decomposition import LatentDirichletAllocation, NMF\n",
    "import numpy\n",
    "import seaborn as sns\n",
    "import matplotlib.pyplot as plt\n",
    "%matplotlib inline \n",
    "pd.set_option('max_colwidth',1000)\n",
    "from collections import Counter\n",
    "from vaderSentiment.vaderSentiment import SentimentIntensityAnalyzer\n",
    "import re\n",
    "import string\n",
    "from nltk.tokenize import word_tokenize\n",
    "from nltk.stem import SnowballStemmer\n",
    "from nltk.stem.wordnet import WordNetLemmatizer\n",
    "from nltk.corpus import wordnet\n",
    "from nltk.corpus import stopwords\n",
    "from nltk import pos_tag\n",
    "from nltk.corpus import stopwords\n"
   ]
  },
  {
   "cell_type": "code",
   "execution_count": 4,
   "metadata": {
    "collapsed": true
   },
   "outputs": [],
   "source": [
    "final_data = pd.read_pickle(\"datanobots.pkl\")\n",
    "final_data = final_data[100000:]\n",
    "final_data = final_data.reset_index()"
   ]
  },
  {
   "cell_type": "code",
   "execution_count": 5,
   "metadata": {
    "collapsed": true
   },
   "outputs": [],
   "source": [
    "urls = []\n",
    "for x in final_data.entities:\n",
    "    if x[\"urls\"]:\n",
    "        urls.append(x[\"urls\"][0][\"expanded_url\"])"
   ]
  },
  {
   "cell_type": "code",
   "execution_count": 6,
   "metadata": {},
   "outputs": [
    {
     "data": {
      "text/plain": [
       "[('http://www.teenvogue.com/story/kathy-griffin-performative-outrage-relativity-shame-thigh-high-politics',\n",
       "  5973),\n",
       " ('http://www.vulture.com/2016/12/kathy-griffin-comedy-should-go-hard-on-trump.html',\n",
       "  5547),\n",
       " ('http://www.dailywire.com/news/16998/disgusting-kathy-griffin-holds-trumps-bloody-hank-berrien',\n",
       "  5071),\n",
       " ('https://twitter.com/kathygriffin/status/5249479639', 4459),\n",
       " ('http://www.theamericanmirror.com/satan-worshipers-disavow-kathy-griffin-grotesque-trump-behead/',\n",
       "  3773),\n",
       " ('http://fxn.ws/2sdskCg', 3038),\n",
       " ('http://fxn.ws/2rl1Ezx', 2473),\n",
       " ('https://twitter.com/stockmonsterusa/status/869670612934901760', 2337),\n",
       " ('http://dailycaller.com/2017/05/30/should-cnn-snatch-kathy-griffin-off-its-new-years-eve-special/',\n",
       "  2046),\n",
       " ('http://conservativefighters.com/kathy-griffin-petition/', 1862),\n",
       " ('https://twitter.com/realdonaldtrump/status/193051919260979201', 1516),\n",
       " ('http://theduffel.co/2qF9F56', 1452),\n",
       " ('http://ow.ly/LPgx30caKRp', 1419),\n",
       " ('https://www.google.com/amp/amp.tmz.com/2017/06/02/kathy-griffin-concert-canceled-trump',\n",
       "  1325),\n",
       " ('http://wapo.st/2qBUSIu', 1296),\n",
       " ('http://www.thegatewaypundit.com/2017/05/comedienne-roseanne-barr-kathy-griffin-slap-fck-btch/',\n",
       "  1262),\n",
       " ('http://nbcnews.to/2rl0nIR', 1245),\n",
       " ('http://www.tmz.com/2017/06/02/kathy-griffin-concert-canceled-trump/', 1209),\n",
       " ('http://www.foxnews.com/entertainment/2017/06/03/kathy-griffin-feels-betrayed-by-anderson-cooper-after-firing.html',\n",
       "  1188),\n",
       " ('https://twitter.com/kathygriffin/status/869703678550171648', 1181)]"
      ]
     },
     "execution_count": 6,
     "metadata": {},
     "output_type": "execute_result"
    }
   ],
   "source": [
    "Counter(urls).most_common(20)"
   ]
  },
  {
   "cell_type": "markdown",
   "metadata": {},
   "source": [
    "Interesting, the most popular links are from Vulture and Teen Vogue--suggesting we have a pushback with liberal viewpoints compared to the first 100000 tweets."
   ]
  },
  {
   "cell_type": "markdown",
   "metadata": {},
   "source": [
    "Let's look at trying to do some topic modelling on these tweets. Like with the first 100000 tweets, I tried a \n",
    "variety of combinations of topics with LDA, NMF, count vectorizer and TFIDF vectorizer.\n",
    "Here I will only be using NMF with 6 topics and TFIDF (it takes a while to run topic modelling with this many tweets)--which is what I used for my presentation as it led to the best topic clustering."
   ]
  },
  {
   "cell_type": "code",
   "execution_count": 12,
   "metadata": {
    "collapsed": true
   },
   "outputs": [],
   "source": [
    "def get_wordnet_pos(row):\n",
    "    \"\"\"Convert the part-of-speech naming scheme\n",
    "       from the nltk default to that which is\n",
    "       recognized by the WordNet lemmatizer\"\"\"\n",
    "    treebank_tag = pos_tag([row])\n",
    "    if treebank_tag[0][1].startswith('J'):\n",
    "        return wordnet.ADJ\n",
    "        print(treebank_tag)\n",
    "    elif treebank_tag[0][1].startswith('V'):\n",
    "        return wordnet.VERB\n",
    "\n",
    "    elif treebank_tag[0][1].startswith('N'):\n",
    "        return wordnet.NOUN\n",
    "\n",
    "    elif treebank_tag[0][1].startswith('R'):\n",
    "        return wordnet.ADV\n",
    "    else:\n",
    "        return wordnet.NOUN"
   ]
  },
  {
   "cell_type": "code",
   "execution_count": 13,
   "metadata": {
    "collapsed": true
   },
   "outputs": [],
   "source": [
    "#Again like with the first 100000 tweets...I did not want tweets to cluster around\n",
    "#names like Kathy Griffin..so I removed them\n",
    "stopwords = stopwords.words(\"english\")  + [\"Kathy\", \"Griffin\", \"Donald\", \"Trump\", \"kathy\", \"griffin\", \"rt\", \"...\", \"trump\", \"donald\"]"
   ]
  },
  {
   "cell_type": "code",
   "execution_count": 14,
   "metadata": {
    "collapsed": true
   },
   "outputs": [],
   "source": [
    "def text_cleaner_and_stemmer(row):\n",
    "    if type(row) != str :\n",
    "        row = row.decode('utf-8')\n",
    "    row = re.sub('@([A-Za-z0-9_]+)',' ', row)\n",
    "    row = re.sub('http[s]?://(?:[a-zA-Z]|[0-9]|[$-_@.&+]|[!*\\(\\),]|(?:%[0-9a-fA-F][0-9a-fA-F]))+',' ', row)\n",
    "    regex = re.compile('[%s]' % re.escape(string.punctuation))\n",
    "    row = regex.sub('', row)\n",
    "    row = row.replace(\"RT\", \" \")\n",
    "    row = word_tokenize(row)\n",
    "    lemmatizer = WordNetLemmatizer()\n",
    "    lemmatizer_fun = lambda x: lemmatizer.lemmatize(x, get_wordnet_pos(x))\n",
    "    \n",
    "    lemmatizer_fun_outer = lambda x: list(map(lemmatizer_fun, x))\n",
    "    \n",
    "    return generalize_fun(row, lemmatizer_fun_outer)\n",
    "    \n",
    "\n",
    "def generalize_fun(corpus, lambda_fun):\n",
    "# must handle a list of lists (tokenized docs) and also a simple list\n",
    "    try:\n",
    "        if isinstance(corpus[0], list):\n",
    "            # list of lists\n",
    "            corpus = map(lambda_fun, corpus)\n",
    "        else:\n",
    "            # single list\n",
    "            corpus = lambda_fun(corpus)\n",
    "        return list(corpus)\n",
    "    except:\n",
    "        return \"\""
   ]
  },
  {
   "cell_type": "code",
   "execution_count": 38,
   "metadata": {},
   "outputs": [],
   "source": [
    "\n",
    "TV = TfidfVectorizer(ngram_range=(1, 1), \n",
    "                    stop_words=stopwords, \n",
    "   tokenizer = text_cleaner_and_stemmer,\n",
    "token_pattern=\"\\\\b[a-z][a-z]+\\\\b\", min_df=40, max_df=.95,\n",
    "                    lowercase=True)"
   ]
  },
  {
   "cell_type": "code",
   "execution_count": null,
   "metadata": {
    "collapsed": true
   },
   "outputs": [],
   "source": [
    "X = TV.fit_transform(final_data.text)"
   ]
  },
  {
   "cell_type": "code",
   "execution_count": 21,
   "metadata": {
    "collapsed": true
   },
   "outputs": [],
   "source": [
    "def print_topic_top_words(model, cv, n_top_words=10):\n",
    "    feature_names = cv.get_feature_names()\n",
    "    \n",
    "    for topic_vec in enumerate(model.components_):\n",
    "        topic_num = topic_vec[0]\n",
    "        topic_words = topic_vec[1]\n",
    "        \n",
    "        print('Topic {}:'.format(topic_num + 1))\n",
    "        \n",
    "        topic_values = sorted(zip(topic_words, feature_names), \n",
    "                              reverse=True)[:n_top_words]\n",
    "    \n",
    "        print(' '.join([y for x,y in topic_values]))\n",
    "        # pprint(topic_values)\n",
    "        \n",
    "    return"
   ]
  },
  {
   "cell_type": "code",
   "execution_count": 19,
   "metadata": {},
   "outputs": [
    {
     "data": {
      "text/plain": [
       "NMF(alpha=0.0, beta=1, eta=0.1, init=None, l1_ratio=0.0, max_iter=50,\n",
       "  n_components=6, nls_max_iter=2000, random_state=42, shuffle=False,\n",
       "  solver='cd', sparseness=None, tol=0.0001, verbose=0)"
      ]
     },
     "execution_count": 19,
     "metadata": {},
     "output_type": "execute_result"
    }
   ],
   "source": [
    "nmf1 = NMF(n_components = 6, max_iter=50, random_state=42)\n",
    "nmf1.fit(X)"
   ]
  },
  {
   "cell_type": "code",
   "execution_count": 18,
   "metadata": {},
   "outputs": [
    {
     "data": {
      "text/plain": [
       "NMF(alpha=0.0, beta=1, eta=0.1, init=None, l1_ratio=0.0, max_iter=50,\n",
       "  n_components=7, nls_max_iter=2000, random_state=42, shuffle=False,\n",
       "  solver='cd', sparseness=None, tol=0.0001, verbose=0)"
      ]
     },
     "execution_count": 18,
     "metadata": {},
     "output_type": "execute_result"
    }
   ],
   "source": [
    "nmf = NMF(n_components = 7, max_iter=50, random_state=42)\n",
    "nmf.fit(X)"
   ]
  },
  {
   "cell_type": "code",
   "execution_count": 22,
   "metadata": {},
   "outputs": [
    {
     "name": "stdout",
     "output_type": "stream",
     "text": [
      "Topic 1:\n",
      "child time hard photo shoot plot ample misspeak misstep reflectioncorrection photoshoot pose bloody offensive htt… bully beheading apologizes head condemn\n",
      "Topic 2:\n",
      "ashamed especially time… son 11 old barron year hard child white yr having… mirr… note men wasnt thought look ruin\n",
      "Topic 3:\n",
      "mannequin hang free apparently speech gop right doesnt obama get call ted nugent house amp line say want invite remember\n",
      "Topic 4:\n",
      "feel sensitive soul well awful hope photo disgust dont sympa… sort bit yall little offend stunt even make wore shoot\n",
      "Topic 5:\n",
      "cnn fire new eve year amp … president photo ’ host head program white say show shed appear agreement terminate\n",
      "Topic 6:\n",
      "away denier peop… comedic judgment error person climate great take try make disgust misdirects sethrich everyone part clearly record in…\n"
     ]
    }
   ],
   "source": [
    "print_topic_top_words(nmf1, TV, n_top_words=20)"
   ]
  },
  {
   "cell_type": "code",
   "execution_count": 23,
   "metadata": {},
   "outputs": [
    {
     "name": "stdout",
     "output_type": "stream",
     "text": [
      "Topic 1:\n",
      "child time hard photo shoot plot ample misspeak misstep reflectioncorrection photoshoot pose offensive beheading bloody htt… fire bully apologizes author\n",
      "Topic 2:\n",
      "ashamed especially time… son 11 old barron year hard child yr having… white thought mirr… note men warm harmful global\n",
      "Topic 3:\n",
      "mannequin hang free apparently speech doesnt right gop call obama get ted harmful nugent warm global remember leftist line hillary\n",
      "Topic 4:\n",
      "feel sensitive soul well awful hope photo disgust sympa… sort bit yall little offend stunt dont even make wore isi\n",
      "Topic 5:\n",
      "cnn new fire eve year program host agreement terminate appear show shed advertiser terminates … duty lose issue hey special\n",
      "Topic 6:\n",
      "away denier peop… comedic judgment error person climate great take try make disgust misdirects sethrich everyone yall sympa… part clearly\n",
      "Topic 7:\n",
      "’ white president amp say head photo ted career nugent retweet thing … woman hold think ruin shoot decapitate threaten\n"
     ]
    }
   ],
   "source": [
    "print_topic_top_words(nmf, TV, n_top_words=20)"
   ]
  },
  {
   "cell_type": "markdown",
   "metadata": {},
   "source": [
    "We see many more topics that seem to have liberal viewpoints in them: talks of client denial, ted nudget, obama mannequins, etc. We also see topics around Trump tweeting that the photo disturbed his children, and people responding (mocking) that."
   ]
  },
  {
   "cell_type": "markdown",
   "metadata": {},
   "source": [
    "I also want to look at is who is retweeting who.\n",
    "This may give us some information about which side people are taking (as most tweets are retweets).\n"
   ]
  },
  {
   "cell_type": "code",
   "execution_count": 24,
   "metadata": {
    "collapsed": true
   },
   "outputs": [],
   "source": [
    "def aretweet(row):\n",
    "    if row.split(\" \")[0] == \"RT\":\n",
    "        return True\n",
    "    else:\n",
    "        return False"
   ]
  },
  {
   "cell_type": "code",
   "execution_count": 27,
   "metadata": {},
   "outputs": [],
   "source": [
    "final_data[\"was_retweeted\"] = final_data.text.apply(lambda x: aretweet(x))"
   ]
  },
  {
   "cell_type": "code",
   "execution_count": 32,
   "metadata": {},
   "outputs": [
    {
     "data": {
      "text/plain": [
       "<matplotlib.axes._subplots.AxesSubplot at 0x7fea6b4d5518>"
      ]
     },
     "execution_count": 32,
     "metadata": {},
     "output_type": "execute_result"
    },
    {
     "data": {
      "image/png": "[encoded data removed]",
      "text/plain": [
       "<matplotlib.figure.Figure at 0x7fea6b6824a8>"
      ]
     },
     "metadata": {},
     "output_type": "display_data"
    }
   ],
   "source": [
    "final_data.was_retweeted.value_counts().plot(kind=\"bar\")"
   ]
  },
  {
   "cell_type": "markdown",
   "metadata": {},
   "source": [
    "A great majority of Tweets were retweets."
   ]
  },
  {
   "cell_type": "code",
   "execution_count": 36,
   "metadata": {},
   "outputs": [
    {
     "data": {
      "text/html": [
       "<div>\n",
       "<style>\n",
       "    .dataframe thead tr:only-child th {\n",
       "        text-align: right;\n",
       "    }\n",
       "\n",
       "    .dataframe thead th {\n",
       "        text-align: left;\n",
       "    }\n",
       "\n",
       "    .dataframe tbody tr th {\n",
       "        vertical-align: top;\n",
       "    }\n",
       "</style>\n",
       "<table border=\"1\" class=\"dataframe\">\n",
       "  <thead>\n",
       "    <tr style=\"text-align: right;\">\n",
       "      <th></th>\n",
       "      <th>screen_name</th>\n",
       "      <th>text</th>\n",
       "    </tr>\n",
       "  </thead>\n",
       "  <tbody>\n",
       "    <tr>\n",
       "      <th>372635</th>\n",
       "      <td>MelissaStetten</td>\n",
       "      <td>Trump: My children are having a hard time with Kathy Griffin's photo. \\n\\nHis children: https://t.co/o4zW7N0aqm</td>\n",
       "    </tr>\n",
       "    <tr>\n",
       "      <th>263342</th>\n",
       "      <td>realDonaldTrump</td>\n",
       "      <td>Kathy Griffin should be ashamed of herself. My children, especially my 11 year old son, Barron, are having a hard time with this. Sick!</td>\n",
       "    </tr>\n",
       "    <tr>\n",
       "      <th>1029797</th>\n",
       "      <td>JuddApatow</td>\n",
       "      <td>Kathy Griffin is a great person who made an error in comedic judgment. She is not a climate denier trying to take a… https://t.co/HyjQdfmNZr</td>\n",
       "    </tr>\n",
       "    <tr>\n",
       "      <th>883460</th>\n",
       "      <td>rickygervais</td>\n",
       "      <td>I hope these sensitive souls are feeling better about that awful Kathy Griffin photo. https://t.co/CmVtUzWtv5</td>\n",
       "    </tr>\n",
       "    <tr>\n",
       "      <th>1056261</th>\n",
       "      <td>GovMikeHuckabee</td>\n",
       "      <td>Note to Kathy Griffin: it wasn't \"old white men\" that ruined your career. It was ONE OLD WHITE WOMAN. Look in the mirror to see who she is.</td>\n",
       "    </tr>\n",
       "    <tr>\n",
       "      <th>976627</th>\n",
       "      <td>DonaldJTrumpJr</td>\n",
       "      <td>To put everything into perspective this is a must read from Dec 16 even states it's ok to go after Barron an 11 y/o https://t.co/nNH5lLi3Hb</td>\n",
       "    </tr>\n",
       "    <tr>\n",
       "      <th>1064240</th>\n",
       "      <td>billoreilly</td>\n",
       "      <td>Hope everyone saw Kathy Griffin &amp;amp; her radical left attorney accuse @POTUS of \"bullying\" her. Could never happen in a sane society, but...</td>\n",
       "    </tr>\n",
       "    <tr>\n",
       "      <th>59544</th>\n",
       "      <td>JackPosobiec</td>\n",
       "      <td>Hannity lost sponsors over discussing an unsolved murder. Kathy Griffin is a CNN host and they haven't even issued a statement</td>\n",
       "    </tr>\n",
       "    <tr>\n",
       "      <th>145969</th>\n",
       "      <td>KellyannePolls</td>\n",
       "      <td>Kathy Griffin did not misspeak or misstep. She plotted &amp;amp; posed for photoshoot. Ample time for reflection/correction https://t.co/KmVygz2kfK</td>\n",
       "    </tr>\n",
       "    <tr>\n",
       "      <th>940336</th>\n",
       "      <td>PrisonPlanet</td>\n",
       "      <td>Kathy Griffin: \"This is a woman thing.\"\\n\\nNo, it's a 'don't do photo shoots with a decapitated president's head' thing, you complete idiot.</td>\n",
       "    </tr>\n",
       "    <tr>\n",
       "      <th>577478</th>\n",
       "      <td>1942bs</td>\n",
       "      <td>i don't feel even a little bit offended or disgusted by Kathy Griffin's stunt and yall will not make me feel any so… https://t.co/Lbb2infrXp</td>\n",
       "    </tr>\n",
       "    <tr>\n",
       "      <th>422276</th>\n",
       "      <td>CNNPR</td>\n",
       "      <td>CNN has terminated our agreement with Kathy Griffin to appear on our New Year's Eve program.</td>\n",
       "    </tr>\n",
       "    <tr>\n",
       "      <th>9921</th>\n",
       "      <td>KurtSchlichter</td>\n",
       "      <td>🤔I got booted off CNN because I said that Hillary is a sex abuser enabler.\\nKathy Griffin wallows in assassination porn and CNN keeps her.🤔</td>\n",
       "    </tr>\n",
       "    <tr>\n",
       "      <th>1146775</th>\n",
       "      <td>MarkDice</td>\n",
       "      <td>Kathy Griffin attacked @SarahPalinUSA's disabled newborn baby Trig in this 2009 tweet. https://t.co/csCo4Nj6jG</td>\n",
       "    </tr>\n",
       "    <tr>\n",
       "      <th>1338365</th>\n",
       "      <td>spxncxrx</td>\n",
       "      <td>Bill Maher used the n-word on air and still has a show but Kathy Griffin's entire career is in jeopardy bc she hurt… https://t.co/R3P1UDz6mM</td>\n",
       "    </tr>\n",
       "  </tbody>\n",
       "</table>\n",
       "</div>"
      ],
      "text/plain": [
       "             screen_name  \\\n",
       "372635    MelissaStetten   \n",
       "263342   realDonaldTrump   \n",
       "1029797       JuddApatow   \n",
       "883460      rickygervais   \n",
       "1056261  GovMikeHuckabee   \n",
       "976627    DonaldJTrumpJr   \n",
       "1064240      billoreilly   \n",
       "59544       JackPosobiec   \n",
       "145969    KellyannePolls   \n",
       "940336      PrisonPlanet   \n",
       "577478            1942bs   \n",
       "422276             CNNPR   \n",
       "9921      KurtSchlichter   \n",
       "1146775         MarkDice   \n",
       "1338365         spxncxrx   \n",
       "\n",
       "                                                                                                                                                    text  \n",
       "372635                                   Trump: My children are having a hard time with Kathy Griffin's photo. \\n\\nHis children: https://t.co/o4zW7N0aqm  \n",
       "263342           Kathy Griffin should be ashamed of herself. My children, especially my 11 year old son, Barron, are having a hard time with this. Sick!  \n",
       "1029797     Kathy Griffin is a great person who made an error in comedic judgment. She is not a climate denier trying to take a… https://t.co/HyjQdfmNZr  \n",
       "883460                                     I hope these sensitive souls are feeling better about that awful Kathy Griffin photo. https://t.co/CmVtUzWtv5  \n",
       "1056261      Note to Kathy Griffin: it wasn't \"old white men\" that ruined your career. It was ONE OLD WHITE WOMAN. Look in the mirror to see who she is.  \n",
       "976627       To put everything into perspective this is a must read from Dec 16 even states it's ok to go after Barron an 11 y/o https://t.co/nNH5lLi3Hb  \n",
       "1064240    Hope everyone saw Kathy Griffin &amp; her radical left attorney accuse @POTUS of \"bullying\" her. Could never happen in a sane society, but...  \n",
       "59544                     Hannity lost sponsors over discussing an unsolved murder. Kathy Griffin is a CNN host and they haven't even issued a statement  \n",
       "145969   Kathy Griffin did not misspeak or misstep. She plotted &amp; posed for photoshoot. Ample time for reflection/correction https://t.co/KmVygz2kfK  \n",
       "940336      Kathy Griffin: \"This is a woman thing.\"\\n\\nNo, it's a 'don't do photo shoots with a decapitated president's head' thing, you complete idiot.  \n",
       "577478      i don't feel even a little bit offended or disgusted by Kathy Griffin's stunt and yall will not make me feel any so… https://t.co/Lbb2infrXp  \n",
       "422276                                                      CNN has terminated our agreement with Kathy Griffin to appear on our New Year's Eve program.  \n",
       "9921         🤔I got booted off CNN because I said that Hillary is a sex abuser enabler.\\nKathy Griffin wallows in assassination porn and CNN keeps her.🤔  \n",
       "1146775                                   Kathy Griffin attacked @SarahPalinUSA's disabled newborn baby Trig in this 2009 tweet. https://t.co/csCo4Nj6jG  \n",
       "1338365     Bill Maher used the n-word on air and still has a show but Kathy Griffin's entire career is in jeopardy bc she hurt… https://t.co/R3P1UDz6mM  "
      ]
     },
     "execution_count": 36,
     "metadata": {},
     "output_type": "execute_result"
    }
   ],
   "source": [
    "final_data[~final_data.text.str.contains(\"RT\")].sort_values(\"retweet_count\", ascending=False)[[\"screen_name\", \"text\"]].head(15)"
   ]
  },
  {
   "cell_type": "markdown",
   "metadata": {},
   "source": [
    "Interesting...we see a good amount of liberals being retweeted at the top (compared to first 100k tweets), but overall it appears that the most retweeted Tweets came from conservatives."
   ]
  },
  {
   "cell_type": "code",
   "execution_count": null,
   "metadata": {
    "collapsed": true
   },
   "outputs": [],
   "source": []
  }
 ],
 "metadata": {
  "kernelspec": {
   "display_name": "Python 3",
   "language": "python",
   "name": "python3"
  },
  "language_info": {
   "codemirror_mode": {
    "name": "ipython",
    "version": 3
   },
   "file_extension": ".py",
   "mimetype": "text/x-python",
   "name": "python",
   "nbconvert_exporter": "python",
   "pygments_lexer": "ipython3",
   "version": "3.6.1"
  }
 },
 "nbformat": 4,
 "nbformat_minor": 2
}
