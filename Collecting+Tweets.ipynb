{
 "cells": [
  {
   "cell_type": "markdown",
   "metadata": {},
   "source": [
    "In this notebook, I collected all 2.1 million tweets for my project. Note: You cannot use this code now to get these tweets, as this way of getting tweets is only valid for tweets less than 7 days old."
   ]
  },
  {
   "cell_type": "code",
   "execution_count": 2,
   "metadata": {
    "collapsed": true
   },
   "outputs": [],
   "source": [
    "import pandas as pd\n",
    "from pymongo import MongoClient\n",
    "import cnfg\n",
    "from __future__ import print_function\n",
    "import requests\n",
    "from requests_oauthlib import OAuth1\n",
    "import tweepy\n",
    "import sys\n",
    "import jsonpickle\n",
    "import os\n",
    "import time"
   ]
  },
  {
   "cell_type": "code",
   "execution_count": 18,
   "metadata": {
    "collapsed": true
   },
   "outputs": [],
   "source": [
    "client = MongoClient()\n",
    "c = client\n",
    "db = client.twe\n",
    "reddit = client.reddit\n",
    "db1 = client.redo\n",
    "newtwee = db1.tweetsfull"
   ]
  },
  {
   "cell_type": "markdown",
   "metadata": {},
   "source": [
    "Code for using Tweepy modified from: https://www.karambelkar.info/2015/01/how-to-use-twitters-search-rest-api-most-effectively./"
   ]
  },
  {
   "cell_type": "code",
   "execution_count": null,
   "metadata": {
    "collapsed": true
   },
   "outputs": [],
   "source": [
    "auth = tweepy.AppAuthHandler(\"\", \"\")\n",
    "\n",
    "api = tweepy.API(auth, wait_on_rate_limit=True,\n",
    " wait_on_rate_limit_notify=True)\n",
    "\n",
    "if (not api):\n",
    "    print (\"Can't Authenticate\")\n",
    "    sys.exit(-1)"
   ]
  },
  {
   "cell_type": "code",
   "execution_count": 17,
   "metadata": {},
   "outputs": [
    {
     "data": {
      "text/plain": [
       "tweepy.models.ResultSet"
      ]
     },
     "execution_count": 17,
     "metadata": {},
     "output_type": "execute_result"
    }
   ],
   "source": [
    "#Verifying the api is working\n",
    "type(api.statuses_lookup([869756298295947264]))"
   ]
  },
  {
   "cell_type": "code",
   "execution_count": null,
   "metadata": {
    "collapsed": true
   },
   "outputs": [],
   "source": [
    "#searchQuery = '#someHashtag'  # this is what we're searching for\n",
    "searchQuery = (\"Kathy Griffin OR @kathygriffin\")\n",
    "maxTweets = 10000000# Some arbitrary large number\n",
    "tweetsPerQry = 100  # this is the max the API permits\n",
    "fName = 'tweetids.txt' # We'll store the tweets in a text file.\n",
    "\n",
    "\n",
    "# If results from a specific ID onwards are reqd, set since_id to that ID.\n",
    "# else default to no lower limit, go as far back as API allows\n",
    "#sinceID and maxID are required if one is trying to get tweets from specific times\n",
    "sinceId = 869332529836380160\n",
    "\n",
    "# If results only below a specific ID are, set max_id to that ID.\n",
    "# else default to no upper limit, start from the most recent tweet matching the search query.\n",
    "max_id =  869914980065214464  \n",
    "\n",
    "tweetCount = 0\n",
    "\n",
    "print(\"Downloading max {0} tweets\".format(maxTweets))\n",
    "with open(fName, 'w') as f:\n",
    "    for x in listids[9653:]:\n",
    "        try:\n",
    "            new_tweets = api.statuses_lookup(x)\n",
    "            \n",
    "            if not new_tweets:\n",
    "                print(\"No more tweets found\")\n",
    "                break\n",
    "            for tweet in new_tweets:\n",
    "                tweet = tweet._json\n",
    "                twee = {}\n",
    "                twee[\"id\"] = tweet[\"id\"]\n",
    "                twee[\"retweet_count\"] = tweet[\"retweet_count\"]\n",
    "                twee[\"retweeted\"] = tweet[\"retweeted\"]\n",
    "                twee[\"source\"] = tweet[\"source\"]\n",
    "                twee[\"friends_count\"] = tweet[\"user\"][\"friends_count\"]\n",
    "                twee[\"entities\"] = tweet[\"entities\"]\n",
    "                #tweets are going into my MongoDB database\n",
    "                tweets_other.insert_one(twee)\n",
    "                f.write(str(tweet[\"id\"]) + \" \")\n",
    "\n",
    "            tweetCount += len(new_tweets)\n",
    "            tcount +=1\n",
    "            if tweetCount % 3000 ==0:\n",
    "                print(\"Downloaded {0} tweets\".format(tweetCount))\n",
    "\n",
    "            max_id = new_tweets[-1].id\n",
    "        except tweepy.TweepError as e:\n",
    "            # Just exit if any error\n",
    "            print(\"some error : \" + str(e))\n",
    "            break\n",
    "\n",
    "print (\"Downloaded {0} tweets, Saved to {1}\".format(tweetCount, fName))\n"
   ]
  },
  {
   "cell_type": "markdown",
   "metadata": {},
   "source": [
    "Let's look at some tweets from the database to make sure there are no issues"
   ]
  },
  {
   "cell_type": "code",
   "execution_count": 20,
   "metadata": {
    "collapsed": true
   },
   "outputs": [],
   "source": [
    "\n",
    "Tweets = pd.DataFrame(list(newtwee.find({\"id\": {\"$lt\": 869914980065214464}})))"
   ]
  },
  {
   "cell_type": "markdown",
   "metadata": {},
   "source": [
    "Looks Good!"
   ]
  },
  {
   "cell_type": "code",
   "execution_count": 21,
   "metadata": {},
   "outputs": [
    {
     "data": {
      "text/html": [
       "<div>\n",
       "<style>\n",
       "    .dataframe thead tr:only-child th {\n",
       "        text-align: right;\n",
       "    }\n",
       "\n",
       "    .dataframe thead th {\n",
       "        text-align: left;\n",
       "    }\n",
       "\n",
       "    .dataframe tbody tr th {\n",
       "        vertical-align: top;\n",
       "    }\n",
       "</style>\n",
       "<table border=\"1\" class=\"dataframe\">\n",
       "  <thead>\n",
       "    <tr style=\"text-align: right;\">\n",
       "      <th></th>\n",
       "      <th>_id</th>\n",
       "      <th>coordinates</th>\n",
       "      <th>created_at</th>\n",
       "      <th>entities</th>\n",
       "      <th>favorite_count</th>\n",
       "      <th>favorited</th>\n",
       "      <th>followers_counts</th>\n",
       "      <th>friends_count</th>\n",
       "      <th>geo</th>\n",
       "      <th>id</th>\n",
       "      <th>...</th>\n",
       "      <th>name</th>\n",
       "      <th>num_statuses</th>\n",
       "      <th>retweet_count</th>\n",
       "      <th>retweeted</th>\n",
       "      <th>screen_name</th>\n",
       "      <th>source</th>\n",
       "      <th>text</th>\n",
       "      <th>user_desc</th>\n",
       "      <th>user_loc</th>\n",
       "      <th>verified</th>\n",
       "    </tr>\n",
       "  </thead>\n",
       "  <tbody>\n",
       "    <tr>\n",
       "      <th>0</th>\n",
       "      <td>5937710c1e931e15ce11f63c</td>\n",
       "      <td>None</td>\n",
       "      <td>Wed May 31 13:54:27 +0000 2017</td>\n",
       "      <td>{'hashtags': [], 'symbols': [], 'user_mentions...</td>\n",
       "      <td>0</td>\n",
       "      <td>False</td>\n",
       "      <td>335</td>\n",
       "      <td>199</td>\n",
       "      <td>None</td>\n",
       "      <td>869914978903576577</td>\n",
       "      <td>...</td>\n",
       "      <td>Miriam Conley</td>\n",
       "      <td>21276</td>\n",
       "      <td>173</td>\n",
       "      <td>False</td>\n",
       "      <td>ConleyMiriam</td>\n",
       "      <td>&lt;a href=\"http://twitter.com/download/android\" ...</td>\n",
       "      <td>RT @TreyYingst: President Trump on the Kathy G...</td>\n",
       "      <td>Christian mother, widowed conservative for Pre...</td>\n",
       "      <td></td>\n",
       "      <td>False</td>\n",
       "    </tr>\n",
       "    <tr>\n",
       "      <th>1</th>\n",
       "      <td>5937710c1e931e15ce11f63d</td>\n",
       "      <td>None</td>\n",
       "      <td>Wed May 31 13:54:27 +0000 2017</td>\n",
       "      <td>{'hashtags': [], 'symbols': [], 'user_mentions...</td>\n",
       "      <td>0</td>\n",
       "      <td>False</td>\n",
       "      <td>590</td>\n",
       "      <td>975</td>\n",
       "      <td>None</td>\n",
       "      <td>869914978865881088</td>\n",
       "      <td>...</td>\n",
       "      <td>TruthNado</td>\n",
       "      <td>7753</td>\n",
       "      <td>381</td>\n",
       "      <td>False</td>\n",
       "      <td>truth_nado</td>\n",
       "      <td>&lt;a href=\"http://twitter.com/#!/download/ipad\" ...</td>\n",
       "      <td>RT @NolteNC: Hitler's gunna Hitler...\\n\\nCNN G...</td>\n",
       "      <td></td>\n",
       "      <td></td>\n",
       "      <td>False</td>\n",
       "    </tr>\n",
       "    <tr>\n",
       "      <th>2</th>\n",
       "      <td>5937710c1e931e15ce11f63e</td>\n",
       "      <td>None</td>\n",
       "      <td>Wed May 31 13:54:27 +0000 2017</td>\n",
       "      <td>{'hashtags': [], 'symbols': [], 'user_mentions...</td>\n",
       "      <td>0</td>\n",
       "      <td>False</td>\n",
       "      <td>1219</td>\n",
       "      <td>1120</td>\n",
       "      <td>None</td>\n",
       "      <td>869914978475687936</td>\n",
       "      <td>...</td>\n",
       "      <td>Cara Covfefe</td>\n",
       "      <td>26659</td>\n",
       "      <td>3130</td>\n",
       "      <td>False</td>\n",
       "      <td>cdm5866</td>\n",
       "      <td>&lt;a href=\"http://twitter.com/download/iphone\" r...</td>\n",
       "      <td>RT @The_Trump_Train: Kathy Griffin did not mis...</td>\n",
       "      <td>Mom, Army Vet, Trump Deplorable, Constitution,...</td>\n",
       "      <td>West BY GOD Virginia!</td>\n",
       "      <td>False</td>\n",
       "    </tr>\n",
       "    <tr>\n",
       "      <th>3</th>\n",
       "      <td>5937710c1e931e15ce11f63f</td>\n",
       "      <td>None</td>\n",
       "      <td>Wed May 31 13:54:27 +0000 2017</td>\n",
       "      <td>{'hashtags': [], 'symbols': [], 'user_mentions...</td>\n",
       "      <td>0</td>\n",
       "      <td>False</td>\n",
       "      <td>683</td>\n",
       "      <td>958</td>\n",
       "      <td>None</td>\n",
       "      <td>869914978307891203</td>\n",
       "      <td>...</td>\n",
       "      <td>Peter Askush</td>\n",
       "      <td>19133</td>\n",
       "      <td>20</td>\n",
       "      <td>False</td>\n",
       "      <td>peteraskush</td>\n",
       "      <td>&lt;a href=\"http://twitter.com/download/iphone\" r...</td>\n",
       "      <td>RT @SharonMcCutchan: Kathy Griffin put a face ...</td>\n",
       "      <td>I read because I don't know enough. I'm okay p...</td>\n",
       "      <td>State of quiet desperation.</td>\n",
       "      <td>False</td>\n",
       "    </tr>\n",
       "    <tr>\n",
       "      <th>4</th>\n",
       "      <td>5937710c1e931e15ce11f640</td>\n",
       "      <td>None</td>\n",
       "      <td>Wed May 31 13:54:27 +0000 2017</td>\n",
       "      <td>{'hashtags': [], 'symbols': [], 'user_mentions...</td>\n",
       "      <td>0</td>\n",
       "      <td>False</td>\n",
       "      <td>268</td>\n",
       "      <td>2056</td>\n",
       "      <td>None</td>\n",
       "      <td>869914978131877888</td>\n",
       "      <td>...</td>\n",
       "      <td>VAB WARRIOR</td>\n",
       "      <td>5300</td>\n",
       "      <td>0</td>\n",
       "      <td>False</td>\n",
       "      <td>LOBSERVATEUR55</td>\n",
       "      <td>&lt;a href=\"http://twitter.com/download/iphone\" r...</td>\n",
       "      <td>@usnews that is for me much Worst that what Ka...</td>\n",
       "      <td></td>\n",
       "      <td></td>\n",
       "      <td>False</td>\n",
       "    </tr>\n",
       "  </tbody>\n",
       "</table>\n",
       "<p>5 rows × 21 columns</p>\n",
       "</div>"
      ],
      "text/plain": [
       "                        _id coordinates                      created_at  \\\n",
       "0  5937710c1e931e15ce11f63c        None  Wed May 31 13:54:27 +0000 2017   \n",
       "1  5937710c1e931e15ce11f63d        None  Wed May 31 13:54:27 +0000 2017   \n",
       "2  5937710c1e931e15ce11f63e        None  Wed May 31 13:54:27 +0000 2017   \n",
       "3  5937710c1e931e15ce11f63f        None  Wed May 31 13:54:27 +0000 2017   \n",
       "4  5937710c1e931e15ce11f640        None  Wed May 31 13:54:27 +0000 2017   \n",
       "\n",
       "                                            entities  favorite_count  \\\n",
       "0  {'hashtags': [], 'symbols': [], 'user_mentions...               0   \n",
       "1  {'hashtags': [], 'symbols': [], 'user_mentions...               0   \n",
       "2  {'hashtags': [], 'symbols': [], 'user_mentions...               0   \n",
       "3  {'hashtags': [], 'symbols': [], 'user_mentions...               0   \n",
       "4  {'hashtags': [], 'symbols': [], 'user_mentions...               0   \n",
       "\n",
       "   favorited  followers_counts  friends_count   geo                  id  \\\n",
       "0      False               335            199  None  869914978903576577   \n",
       "1      False               590            975  None  869914978865881088   \n",
       "2      False              1219           1120  None  869914978475687936   \n",
       "3      False               683            958  None  869914978307891203   \n",
       "4      False               268           2056  None  869914978131877888   \n",
       "\n",
       "    ...              name num_statuses  retweet_count  retweeted  \\\n",
       "0   ...     Miriam Conley        21276            173      False   \n",
       "1   ...         TruthNado         7753            381      False   \n",
       "2   ...      Cara Covfefe        26659           3130      False   \n",
       "3   ...      Peter Askush        19133             20      False   \n",
       "4   ...       VAB WARRIOR         5300              0      False   \n",
       "\n",
       "      screen_name                                             source  \\\n",
       "0    ConleyMiriam  <a href=\"http://twitter.com/download/android\" ...   \n",
       "1      truth_nado  <a href=\"http://twitter.com/#!/download/ipad\" ...   \n",
       "2         cdm5866  <a href=\"http://twitter.com/download/iphone\" r...   \n",
       "3     peteraskush  <a href=\"http://twitter.com/download/iphone\" r...   \n",
       "4  LOBSERVATEUR55  <a href=\"http://twitter.com/download/iphone\" r...   \n",
       "\n",
       "                                                text  \\\n",
       "0  RT @TreyYingst: President Trump on the Kathy G...   \n",
       "1  RT @NolteNC: Hitler's gunna Hitler...\\n\\nCNN G...   \n",
       "2  RT @The_Trump_Train: Kathy Griffin did not mis...   \n",
       "3  RT @SharonMcCutchan: Kathy Griffin put a face ...   \n",
       "4  @usnews that is for me much Worst that what Ka...   \n",
       "\n",
       "                                           user_desc  \\\n",
       "0  Christian mother, widowed conservative for Pre...   \n",
       "1                                                      \n",
       "2  Mom, Army Vet, Trump Deplorable, Constitution,...   \n",
       "3  I read because I don't know enough. I'm okay p...   \n",
       "4                                                      \n",
       "\n",
       "                      user_loc verified  \n",
       "0                                 False  \n",
       "1                                 False  \n",
       "2       West BY GOD Virginia!     False  \n",
       "3  State of quiet desperation.    False  \n",
       "4                                 False  \n",
       "\n",
       "[5 rows x 21 columns]"
      ]
     },
     "execution_count": 21,
     "metadata": {},
     "output_type": "execute_result"
    }
   ],
   "source": [
    "Tweets.head()"
   ]
  },
  {
   "cell_type": "code",
   "execution_count": null,
   "metadata": {
    "collapsed": true
   },
   "outputs": [],
   "source": []
  },
  {
   "cell_type": "code",
   "execution_count": null,
   "metadata": {
    "collapsed": true
   },
   "outputs": [],
   "source": []
  }
 ],
 "metadata": {
  "kernelspec": {
   "display_name": "Python 3",
   "language": "python",
   "name": "python3"
  },
  "language_info": {
   "codemirror_mode": {
    "name": "ipython",
    "version": 3
   },
   "file_extension": ".py",
   "mimetype": "text/x-python",
   "name": "python",
   "nbconvert_exporter": "python",
   "pygments_lexer": "ipython3",
   "version": "3.6.1"
  }
 },
 "nbformat": 4,
 "nbformat_minor": 2
}
